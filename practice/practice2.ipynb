{
 "cells": [
  {
   "cell_type": "markdown",
   "id": "d1309caf",
   "metadata": {},
   "source": [
    "# Comparison of different Li plating models\n",
    "\n",
    "See impace of different available Li plating options."
   ]
  },
  {
   "cell_type": "code",
   "execution_count": 18,
   "id": "02b25663",
   "metadata": {},
   "outputs": [],
   "source": [
    "import pybamm"
   ]
  },
  {
   "cell_type": "markdown",
   "id": "48c8f13c",
   "metadata": {},
   "source": [
    "* Creating a simple experiment with 100% discharge and 100% charging cylcles. Running these cycles for 30 times.\n",
    "\n",
    "* **`Chen2020` does not have paramters that relate to Li plating. So either we add those params or chose a different model.**\n",
    "\n",
    "* Using `OKane2022` parameter values."
   ]
  },
  {
   "cell_type": "code",
   "execution_count": 19,
   "id": "4efd3a48",
   "metadata": {},
   "outputs": [],
   "source": [
    "my_exp = pybamm.Experiment(\n",
    "    [\"Discharge at 0.5C for 1 hour\",\n",
    "    \"Charge at 0.5C for 1 hour\"] * 4\n",
    ")\n",
    "\n",
    "my_param = pybamm.ParameterValues(\"OKane2022\")\n",
    "\n",
    "sols = []"
   ]
  },
  {
   "cell_type": "markdown",
   "id": "9d949482",
   "metadata": {},
   "source": [
    "* Make a list of all Li plating options to explore."
   ]
  },
  {
   "cell_type": "code",
   "execution_count": 20,
   "id": "c9d75819",
   "metadata": {},
   "outputs": [],
   "source": [
    "sei_options = [\"none\", \"reversible\", \"irreversible\", \"partially reversible\"]"
   ]
  },
  {
   "cell_type": "markdown",
   "id": "9af6754e",
   "metadata": {},
   "source": [
    "* Iterate through the list and apply each option one by one to the model.\n",
    "\n",
    "* `model.name` is used to give name to the model to be used while plotting."
   ]
  },
  {
   "cell_type": "code",
   "execution_count": 21,
   "id": "018328b6",
   "metadata": {},
   "outputs": [],
   "source": [
    "for option in sei_options:\n",
    "    model = pybamm.lithium_ion.DFN(options={\"lithium plating\": option})\n",
    "    model.name = option\n",
    "    sim = pybamm.Simulation(model, experiment=my_exp, parameter_values=my_param)\n",
    "    sols.append(sim.solve())"
   ]
  },
  {
   "cell_type": "markdown",
   "id": "ea0cf7dc",
   "metadata": {},
   "source": [
    "* Use the `model.varaibles.search()` function to search for appropriate varaibles to plot"
   ]
  },
  {
   "cell_type": "code",
   "execution_count": 22,
   "id": "8bacd60a",
   "metadata": {},
   "outputs": [
    {
     "name": "stdout",
     "output_type": "stream",
     "text": [
      "Results for 'voltage': ['Local voltage [V]', 'Voltage expression [V]', 'Terminal voltage [V]', 'Voltage [V]', 'Surface open-circuit voltage [V]', 'Bulk open-circuit voltage [V]', 'Battery open-circuit voltage [V]', 'Battery voltage [V]']\n"
     ]
    }
   ],
   "source": [
    "model.variables.search(\"voltage\")"
   ]
  },
  {
   "cell_type": "code",
   "execution_count": null,
   "id": "54fd2340",
   "metadata": {},
   "outputs": [
    {
     "data": {
      "application/vnd.jupyter.widget-view+json": {
       "model_id": "bf55e87eee684ac1a4059e4f7da3d377",
       "version_major": 2,
       "version_minor": 0
      },
      "text/plain": [
       "interactive(children=(FloatSlider(value=0.0, description='t', max=8.0, step=0.08), Output()), _dom_classes=('w…"
      ]
     },
     "metadata": {},
     "output_type": "display_data"
    },
    {
     "data": {
      "text/plain": [
       "<pybamm.plotting.quick_plot.QuickPlot at 0x17f136810>"
      ]
     },
     "execution_count": 27,
     "metadata": {},
     "output_type": "execute_result"
    }
   ],
   "source": [
    "pybamm.dynamic_plot(sols, output_variables=[\"Loss of lithium inventory [%]\", 'Loss of lithium to negative lithium plating [mol]', 'Loss of capacity to negative lithium plating [A.h]'])\n"
   ]
  },
  {
   "cell_type": "markdown",
   "id": "3a519cee",
   "metadata": {},
   "source": [
    "### Plot Explanation\n",
    "\n",
    "1. LLI\n",
    "* `none`, there is no LLI\n",
    "\n",
    "* `reversible`, Li deposited during charging is stripped off during discharge so no LLI\n",
    "\n",
    "* `irreversible`, very high amounts of LLI\n",
    "\n",
    "* `partially reversible`, some Li is lost in each cycle and remaining is regained\n",
    "\n",
    "\n",
    "2. Other plots also follow same behaviour"
   ]
  },
  {
   "cell_type": "markdown",
   "id": "38d2c394",
   "metadata": {},
   "source": []
  }
 ],
 "metadata": {
  "kernelspec": {
   "display_name": "Python 3",
   "language": "python",
   "name": "python3"
  },
  "language_info": {
   "codemirror_mode": {
    "name": "ipython",
    "version": 3
   },
   "file_extension": ".py",
   "mimetype": "text/x-python",
   "name": "python",
   "nbconvert_exporter": "python",
   "pygments_lexer": "ipython3",
   "version": "3.12.1"
  }
 },
 "nbformat": 4,
 "nbformat_minor": 5
}
