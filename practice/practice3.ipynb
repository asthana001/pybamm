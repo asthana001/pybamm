{
 "cells": [
  {
   "cell_type": "markdown",
   "id": "501201c4",
   "metadata": {},
   "source": [
    "# To study the effect of 100% SoC and 0% SoC cell on CCCV curve\n",
    "\n",
    "See how a fully charged battery and a fully empty battery react to Constant Current Constant Voltage experiment"
   ]
  },
  {
   "cell_type": "code",
   "execution_count": 7,
   "id": "e59c2950",
   "metadata": {},
   "outputs": [],
   "source": [
    "import pybamm"
   ]
  },
  {
   "cell_type": "code",
   "execution_count": 8,
   "id": "7c9c0e4a",
   "metadata": {},
   "outputs": [],
   "source": [
    "model = pybamm.lithium_ion.DFN()"
   ]
  },
  {
   "cell_type": "markdown",
   "id": "3391d72d",
   "metadata": {},
   "source": [
    "### CCCV Procedure\n",
    "1. Charge battery at constant current until upper voltage limit. This will quickly fill up most of the battery.\n",
    "2. Once battery is fully charged, switch to constant voltage to allow the current to slowly decline as the battery is near to full.\n",
    "3. Rest the battery to reach equillibrium."
   ]
  },
  {
   "cell_type": "code",
   "execution_count": 9,
   "id": "fca119e6",
   "metadata": {},
   "outputs": [],
   "source": [
    "my_exp = pybamm.Experiment(\n",
    "    [\"Charge at 1C until 4.2V\",\n",
    "    \"Hold at 4.2V until C/50\",\n",
    "    \"Rest for 1 hour\",]\n",
    ")"
   ]
  },
  {
   "cell_type": "code",
   "execution_count": 10,
   "id": "350bb3cd",
   "metadata": {},
   "outputs": [],
   "source": [
    "sim = pybamm.Simulation(model, experiment=my_exp)\n",
    "sol_100 = sim.solve()\n",
    "sol_0 = sim.solve(initial_soc=0)"
   ]
  },
  {
   "cell_type": "code",
   "execution_count": 11,
   "id": "89651737",
   "metadata": {},
   "outputs": [
    {
     "data": {
      "application/vnd.jupyter.widget-view+json": {
       "model_id": "2a4c6d2b0a5f4fd29efb111e428ef260",
       "version_major": 2,
       "version_minor": 0
      },
      "text/plain": [
       "interactive(children=(FloatSlider(value=0.0, description='t', max=2.601862436729113, step=0.02601862436729113)…"
      ]
     },
     "metadata": {},
     "output_type": "display_data"
    },
    {
     "data": {
      "text/plain": [
       "<pybamm.plotting.quick_plot.QuickPlot at 0x14df51c40>"
      ]
     },
     "execution_count": 11,
     "metadata": {},
     "output_type": "execute_result"
    }
   ],
   "source": [
    "pybamm.dynamic_plot([sol_100, sol_0], labels=[\"100SoC\", \"0SoC\"], output_variables=[\"Current [A]\",\"Terminal voltage [V]\", \"Battery voltage [V]\"])"
   ]
  },
  {
   "cell_type": "code",
   "execution_count": null,
   "id": "c742d199",
   "metadata": {},
   "outputs": [],
   "source": []
  }
 ],
 "metadata": {
  "kernelspec": {
   "display_name": "Python 3",
   "language": "python",
   "name": "python3"
  },
  "language_info": {
   "codemirror_mode": {
    "name": "ipython",
    "version": 3
   },
   "file_extension": ".py",
   "mimetype": "text/x-python",
   "name": "python",
   "nbconvert_exporter": "python",
   "pygments_lexer": "ipython3",
   "version": "3.12.1"
  }
 },
 "nbformat": 4,
 "nbformat_minor": 5
}
