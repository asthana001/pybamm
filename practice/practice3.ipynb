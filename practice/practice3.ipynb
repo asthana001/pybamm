{
 "cells": [
  {
   "cell_type": "markdown",
   "id": "501201c4",
   "metadata": {},
   "source": [
    "# To study the effect of SoC on CCCV curve\n",
    "\n",
    "See how a fully charged battery and a fully empty battery react to Constant Current Constant Voltage experiment"
   ]
  },
  {
   "cell_type": "code",
   "execution_count": 21,
   "id": "e59c2950",
   "metadata": {},
   "outputs": [],
   "source": [
    "import pybamm"
   ]
  },
  {
   "cell_type": "code",
   "execution_count": 22,
   "id": "7c9c0e4a",
   "metadata": {},
   "outputs": [],
   "source": [
    "model = pybamm.lithium_ion.DFN()"
   ]
  },
  {
   "cell_type": "markdown",
   "id": "3391d72d",
   "metadata": {},
   "source": [
    "### CCCV Procedure\n",
    "1. Charge battery at constant current until upper voltage limit. This will quickly fill up most of the battery.\n",
    "2. Once battery is fully charged, switch to constant voltage to allow the current to slowly decline as the battery is near to full.\n",
    "3. Rest the battery to reach equillibrium."
   ]
  },
  {
   "cell_type": "code",
   "execution_count": 23,
   "id": "fca119e6",
   "metadata": {},
   "outputs": [],
   "source": [
    "my_exp = pybamm.Experiment(\n",
    "    [\"Charge at 1C until 4.2V\",\n",
    "    \"Hold at 4.2V until C/50\",\n",
    "    \"Rest for 1 hour\",]\n",
    ")"
   ]
  },
  {
   "cell_type": "markdown",
   "id": "03c31590",
   "metadata": {},
   "source": [
    "We make 3 solutions - 100% SoC, 50% SoC and 0% SoC for comparison\n",
    "\n",
    "`initial_soc` should have a value between 0 and 1"
   ]
  },
  {
   "cell_type": "code",
   "execution_count": 24,
   "id": "350bb3cd",
   "metadata": {},
   "outputs": [],
   "source": [
    "sim = pybamm.Simulation(model, experiment=my_exp)\n",
    "sol_100 = sim.solve()\n",
    "sol_50 = sim.solve(initial_soc=0.5)\n",
    "sol_0 = sim.solve(initial_soc=0)"
   ]
  },
  {
   "cell_type": "code",
   "execution_count": 25,
   "id": "89651737",
   "metadata": {},
   "outputs": [
    {
     "data": {
      "application/vnd.jupyter.widget-view+json": {
       "model_id": "cbee9e62762b4389b79ebcedba01a9e5",
       "version_major": 2,
       "version_minor": 0
      },
      "text/plain": [
       "interactive(children=(FloatSlider(value=0.0, description='t', max=2.601862436729113, step=0.02601862436729113)…"
      ]
     },
     "metadata": {},
     "output_type": "display_data"
    },
    {
     "data": {
      "text/plain": [
       "<pybamm.plotting.quick_plot.QuickPlot at 0x17b3b8e00>"
      ]
     },
     "execution_count": 25,
     "metadata": {},
     "output_type": "execute_result"
    }
   ],
   "source": [
    "pybamm.dynamic_plot([sol_100, sol_50, sol_0], labels=[\"100 SoC\", \"50 SoC\", \"0 SoC\"], output_variables=[\"Current [A]\",\"Terminal voltage [V]\"])"
   ]
  },
  {
   "cell_type": "markdown",
   "id": "27695940",
   "metadata": {},
   "source": [
    "### Plot Explanations\n",
    "\n",
    "\n",
    "1. Current vs Time:\n",
    "* For 100 SoC, we dont see a constant current cycle as the battery is already charged to full capacity. As the SoC decreases, we see an increasing amount of CC cycle to fill up the battery quickly.\n",
    "\n",
    "* **-ve current means charging**\n",
    "\n",
    "* Current tapers off to 0 once the desired voltage of 4.2V is reached and CV cycle is running.\n",
    "\n",
    "2. Terminal Voltage vs Time:\n",
    "* For 100 SoC, the voltage is already near upper cutoff limit as compared to 0 SoC which is near lower cutoff limit. \n",
    "\n",
    "* Once voltage reaches near 4.2V for all cases, then CV cycle starts and constant voltage is maintained unitill current tapers.\n",
    "    "
   ]
  }
 ],
 "metadata": {
  "kernelspec": {
   "display_name": "Python 3",
   "language": "python",
   "name": "python3"
  },
  "language_info": {
   "codemirror_mode": {
    "name": "ipython",
    "version": 3
   },
   "file_extension": ".py",
   "mimetype": "text/x-python",
   "name": "python",
   "nbconvert_exporter": "python",
   "pygments_lexer": "ipython3",
   "version": "3.12.1"
  }
 },
 "nbformat": 4,
 "nbformat_minor": 5
}
